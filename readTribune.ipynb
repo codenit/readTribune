{
 "cells": [
  {
   "cell_type": "markdown",
   "metadata": {},
   "source": [
    "__Importing   [requests](http://docs.python-requests.org/en/master/) and [BeautifulSoup](https://www.crummy.com/software/BeautifulSoup/bs4/doc/) to pull the data out.__"
   ]
  },
  {
   "cell_type": "code",
   "execution_count": null,
   "metadata": {},
   "outputs": [],
   "source": [
    "import requests\n",
    "from bs4 import BeautifulSoup"
   ]
  },
  {
   "cell_type": "code",
   "execution_count": null,
   "metadata": {},
   "outputs": [],
   "source": [
    "baseUrl = \"http://www.tribuneindia.com/\"\n",
    "response = requests.get(baseUrl)"
   ]
  },
  {
   "cell_type": "markdown",
   "metadata": {},
   "source": [
    "- To check whether the connection to [The Tribune](http://www.tribuneindia.com/) established or not : "
   ]
  },
  {
   "cell_type": "code",
   "execution_count": null,
   "metadata": {},
   "outputs": [],
   "source": [
    "if response.status_code == 200:\n",
    "    print('Connection established')\n",
    "else:\n",
    "    print('Connection error')"
   ]
  },
  {
   "cell_type": "code",
   "execution_count": null,
   "metadata": {},
   "outputs": [],
   "source": [
    "resultPage = BeautifulSoup(response.content,'lxml')\n",
    "thePage = resultPage.find('div', {'class':'LeftContainer'})\n",
    "#print(thePage.prettify())"
   ]
  },
  {
   "cell_type": "markdown",
   "metadata": {},
   "source": [
    "-  for parsing all the `<a>` tags from the __thePage__ section : "
   ]
  },
  {
   "cell_type": "code",
   "execution_count": null,
   "metadata": {},
   "outputs": [],
   "source": [
    "all_aTags = thePage.findAll('a')\n",
    "#print (all_aTags)"
   ]
  },
  {
   "cell_type": "code",
   "execution_count": null,
   "metadata": {},
   "outputs": [],
   "source": [
    "mainHeadline = thePage.find('h1').get_text()\n",
    "synop = thePage.find('p',{'id':'synop'}).get_text()\n",
    "print(\"Today's Headline is: \",'\\n'*2,'\\t','\\033[1m',mainHeadline,'\\033[0m','\\n')\n",
    "print(synop)"
   ]
  },
  {
   "cell_type": "markdown",
   "metadata": {},
   "source": [
    "- getting input from the user for displaying full article : "
   ]
  },
  {
   "cell_type": "code",
   "execution_count": null,
   "metadata": {},
   "outputs": [],
   "source": [
    "try:\n",
    "    usrResponse = input('Read full article? (y/n): ').lower()\n",
    "    if usrResponse == 'y':\n",
    "        fullArt = thePage.find('div', {'id':'fullart'}).get_text()\n",
    "        print(fullArt)\n",
    "except:\n",
    "    pass"
   ]
  },
  {
   "cell_type": "markdown",
   "metadata": {},
   "source": [
    "- getting input from the user for displaying bulletins :"
   ]
  },
  {
   "cell_type": "code",
   "execution_count": null,
   "metadata": {},
   "outputs": [],
   "source": [
    "try:\n",
    "    resBulletins = input('Show bulletins (y/n): ').lower()\n",
    "    if resBulletins == 'y':\n",
    "        bullHead = thePage.find('div', {'id': 'ctl00_ContentPlaceHolder1_toplead_news1_dvtopleadbottom'})\n",
    "            \n",
    "        bHead = bullHead.find_all('h2')\n",
    "        bSynop = bullHead.find_all('p')\n",
    "            \n",
    "        for bH, bS in zip(bHead, bSynop):\n",
    "            print('\\033[1m','\\n','\\t',bH.get_text(),'\\033[0m','\\n'*2,'\\033[25m', bS.get_text(),'\\033[0m')\n",
    "except:\n",
    "    pass"
   ]
  },
  {
   "cell_type": "code",
   "execution_count": null,
   "metadata": {},
   "outputs": [],
   "source": []
  }
 ],
 "metadata": {
  "kernelspec": {
   "display_name": "Python 3",
   "language": "python",
   "name": "python3"
  },
  "language_info": {
   "codemirror_mode": {
    "name": "ipython",
    "version": 3
   },
   "file_extension": ".py",
   "mimetype": "text/x-python",
   "name": "python",
   "nbconvert_exporter": "python",
   "pygments_lexer": "ipython3",
   "version": "3.6.3"
  }
 },
 "nbformat": 4,
 "nbformat_minor": 2
}
